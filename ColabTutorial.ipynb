{
  "nbformat": 4,
  "nbformat_minor": 0,
  "metadata": {
    "colab": {
      "provenance": [],
      "authorship_tag": "ABX9TyPhbXoGxoZzUJ4TjrXOrhPL",
      "include_colab_link": true
    },
    "kernelspec": {
      "name": "python3",
      "display_name": "Python 3"
    },
    "language_info": {
      "name": "python"
    }
  },
  "cells": [
    {
      "cell_type": "markdown",
      "metadata": {
        "id": "view-in-github",
        "colab_type": "text"
      },
      "source": [
        "<a href=\"https://colab.research.google.com/github/Jcantelmi-1/Data-Science-Projects/blob/main/ColabTutorial.ipynb\" target=\"_parent\"><img src=\"https://colab.research.google.com/assets/colab-badge.svg\" alt=\"Open In Colab\"/></a>"
      ]
    },
    {
      "cell_type": "code",
      "execution_count": 7,
      "metadata": {
        "colab": {
          "base_uri": "https://localhost:8080/"
        },
        "id": "mB8DaobOb2nS",
        "outputId": "9e9796e2-c85b-4d71-ee65-ef7d1ff71ba8"
      },
      "outputs": [
        {
          "output_type": "stream",
          "name": "stdout",
          "text": [
            "Thu Feb  1 16:17:03 2024\n"
          ]
        }
      ],
      "source": [
        "import time\n",
        "print(time.ctime())"
      ]
    },
    {
      "cell_type": "code",
      "source": [
        "time.sleep(5)\n",
        "print (time.ctime())"
      ],
      "metadata": {
        "colab": {
          "base_uri": "https://localhost:8080/"
        },
        "id": "1sWwmoXjdFZM",
        "outputId": "354991c3-13eb-4c95-d7a6-e3d3ae210460"
      },
      "execution_count": 8,
      "outputs": [
        {
          "output_type": "stream",
          "name": "stdout",
          "text": [
            "Thu Feb  1 16:17:08 2024\n"
          ]
        }
      ]
    },
    {
      "cell_type": "markdown",
      "source": [
        "**bold**\n",
        "*italic*\n",
        "~strikethrough~"
      ],
      "metadata": {
        "id": "gkH8mF0ngldS"
      }
    },
    {
      "cell_type": "markdown",
      "source": [
        "\n",
        "$e^x = \\sum_{i = 0}^\\infty \\frac{1}{¡!}x^i$"
      ],
      "metadata": {
        "id": "BVqedIUXgtl3"
      }
    }
  ]
}